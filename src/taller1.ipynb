{
 "cells": [
  {
   "cell_type": "markdown",
   "id": "10386c33",
   "metadata": {},
   "source": [
    "# Métricas de Desempeño\n",
    "---\n",
    "\n",
    "- **Taller 1**: machine learning.\n",
    "- **Fecha de entrega**: 5 de septiembre de 2023.\n",
    "- **Enlace de entrega**: https://forms.gle/F9ABUkVPyjgNdyEa9\n",
    "\n",
    "Importamos librerías:"
   ]
  },
  {
   "cell_type": "code",
   "execution_count": null,
   "id": "b7e7bdfe",
   "metadata": {
    "lines_to_next_cell": 1,
    "title": "[code]"
   },
   "outputs": [],
   "source": [
    "import numpy as np\n",
    "import matplotlib.pyplot as plt\n",
    "from numpy.typing import ArrayLike\n",
    "from typing import Self\n",
    "from sklearn.base import BaseEstimator"
   ]
  },
  {
   "cell_type": "markdown",
   "id": "cefdadb7",
   "metadata": {},
   "source": [
    "## 1. Carga de Datos\n",
    "---\n",
    "\n",
    "En este punto deberá crear un conjunto de datos con las siguientes especificaciones:\n",
    "\n",
    "- Debe utilizar la función `make_circles` de `sklearn`.\n",
    "- El conjunto de datos debe ser generado con 10.000 muestras.\n",
    "- Debe utilizar un factor de 0.3 entre el radio de los dos circulos.\n",
    "- Debe agregar un nivel de ruido de 0.2.\n",
    "\n",
    "Para esto, debe implementar la función `make_data`, la cual debe retornar la matriz de caracteristicas de los datos y sus etiquetas."
   ]
  },
  {
   "cell_type": "code",
   "execution_count": null,
   "id": "63f4c603",
   "metadata": {
    "lines_to_next_cell": 1,
    "title": "[code]"
   },
   "outputs": [],
   "source": [
    "def make_data() -> ArrayLike:\n",
    "    # Agregue su código acá\n",
    "    ..."
   ]
  },
  {
   "cell_type": "code",
   "execution_count": null,
   "id": "75c4dae2",
   "metadata": {
    "lines_to_next_cell": 1,
    "title": "[code]"
   },
   "outputs": [],
   "source": [
    "features = make_data()"
   ]
  },
  {
   "cell_type": "markdown",
   "id": "37572e23",
   "metadata": {},
   "source": [
    "## 2. Modelo\n",
    "---\n",
    "\n",
    "Revise el funcionamiento del algoritmo de [K-Nearest Neighbors (KNN)](https://www.ibm.com/topics/knn). Escriba un párrafo resumiendo el funcionamiento de este algoritmo de clasificación:"
   ]
  },
  {
   "cell_type": "markdown",
   "id": "398f7d0f",
   "metadata": {},
   "source": [
    "**Agregue texto acá**"
   ]
  },
  {
   "cell_type": "markdown",
   "id": "8a42359e",
   "metadata": {},
   "source": [
    "## 3. Implementación\n",
    "---\n",
    "\n",
    "Implemente la clase `KNN` con el algoritmo de vecinos más cercanos, esta clase debe cumplir lo siguiente:\n",
    "\n",
    "- El método `fit` debe almacenar la matriz de características y las etiquetas.\n",
    "- El método `predict` debe generar una predicción para nuevas muestras siguiendo el algoritmo de KNN."
   ]
  },
  {
   "cell_type": "code",
   "execution_count": null,
   "id": "244ab9a6",
   "metadata": {
    "title": "[code]"
   },
   "outputs": [],
   "source": [
    "class KNN(BaseEstimator):\n",
    "    def __init__(self, k: int):\n",
    "        self.k = k\n",
    "\n",
    "    def fit(self, X: ArrayLike, y: ArrayLike) -> Self:\n",
    "        # Agregue su código acá\n",
    "        ...\n",
    "\n",
    "    def predict(self, X: ArrayLike) -> ArrayLike:\n",
    "        # Agregue su código acá\n",
    "        ..."
   ]
  },
  {
   "cell_type": "markdown",
   "id": "5676985c",
   "metadata": {},
   "source": [
    "## 4. Aplicación\n",
    "---\n",
    "\n",
    "Entrene el modelo utilizando los datos y genere una gráfica mostrando las [regiones de decisión](https://scikit-learn.org/stable/auto_examples/ensemble/plot_voting_decision_regions.html) del modelo.\n",
    "\n",
    "Ajuste el valor del hiper-parámetro `k` y discuta los resultados."
   ]
  },
  {
   "cell_type": "code",
   "execution_count": null,
   "id": "f68b4a61",
   "metadata": {
    "title": "[code]"
   },
   "outputs": [],
   "source": [
    "# Agregue su código acá"
   ]
  }
 ],
 "metadata": {
  "jupytext": {
   "cell_metadata_filter": "title,-all",
   "formats": "py:percent,ipynb",
   "main_language": "python"
  }
 },
 "nbformat": 4,
 "nbformat_minor": 5
}
